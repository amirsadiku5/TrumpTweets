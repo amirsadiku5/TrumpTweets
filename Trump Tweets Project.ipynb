{
 "cells": [
  {
   "cell_type": "markdown",
   "metadata": {},
   "source": [
    "# Trump Tweets Project\n",
    "\n",
    "## Introduction\n",
    "blablabla la di da"
   ]
  },
  {
   "cell_type": "code",
   "execution_count": null,
   "metadata": {},
   "outputs": [],
   "source": []
  },
  {
   "cell_type": "markdown",
   "metadata": {},
   "source": [
    "## list of imports"
   ]
  },
  {
   "cell_type": "code",
   "execution_count": 1,
   "metadata": {},
   "outputs": [
    {
     "name": "stderr",
     "output_type": "stream",
     "text": [
      "C:\\Users\\mustakarhu\\Anaconda3\\lib\\site-packages\\statsmodels\\tools\\_testing.py:19: FutureWarning: pandas.util.testing is deprecated. Use the functions in the public API at pandas.testing instead.\n",
      "  import pandas.util.testing as tm\n"
     ]
    },
    {
     "name": "stdout",
     "output_type": "stream",
     "text": [
      "Requirement already satisfied: nltk in c:\\users\\mustakarhu\\anaconda3\\lib\\site-packages (3.4.4)\n",
      "Requirement already satisfied: six in c:\\users\\mustakarhu\\anaconda3\\lib\\site-packages (from nltk) (1.14.0)\n",
      "Requirement already satisfied: selenium in c:\\users\\mustakarhu\\anaconda3\\lib\\site-packages (3.141.0)\n",
      "Requirement already satisfied: urllib3 in c:\\users\\mustakarhu\\anaconda3\\lib\\site-packages (from selenium) (1.24.2)\n"
     ]
    }
   ],
   "source": [
    "%matplotlib inline\n",
    "\n",
    "import numpy as np\n",
    "import pandas as pd\n",
    "import matplotlib.pyplot as plt\n",
    "import seaborn as sns\n",
    "import sklearn\n",
    "import sys\n",
    "if \"nltk\" not in sys.modules:\n",
    "    !pip install nltk\n",
    "if \"selenium\" not in sys.modules:\n",
    "    !pip install selenium\n",
    "\n",
    "import selenium  # not sure this is needed but I keep it here for now\n",
    "import nltk  # natural language toolkit\n",
    "from random import choices"
   ]
  },
  {
   "cell_type": "markdown",
   "metadata": {},
   "source": [
    "CSV files"
   ]
  },
  {
   "cell_type": "code",
   "execution_count": 2,
   "metadata": {},
   "outputs": [],
   "source": [
    "# read dataframes\n",
    "df = pd.read_csv('tweets.csv')"
   ]
  },
  {
   "cell_type": "code",
   "execution_count": 3,
   "metadata": {
    "scrolled": true
   },
   "outputs": [
    {
     "data": {
      "text/plain": [
       "FreqDist({'the': 19828, 'to': 10683, 'and': 9554, 'of': 8011, 'a': 7082, 'in': 6179, 'is': 6019, 'for': 4964, 'i': 3845, 'on': 3754, ...})"
      ]
     },
     "execution_count": 3,
     "metadata": {},
     "output_type": "execute_result"
    }
   ],
   "source": [
    "# TWEETS TEXT ANALYSIS \n",
    "tweets = df.copy()\n",
    "\n",
    "# CLEAN UP DATA\n",
    "# only consider tweets sent by Trump\n",
    "tweets = tweets[tweets.is_retweet==False] \n",
    "# to remove links\n",
    "def remove_links(text):\n",
    "    words = text.split()\n",
    "    words = [word for word in words if not (word.startswith('http:') or word.startswith('https:'))]\n",
    "    return ' '.join(words)\n",
    "\n",
    "# to remove numbers and punctuation\n",
    "def filter_alpha(text):\n",
    "    words = text.split()\n",
    "    words = [word for word in words if word.isalpha()]\n",
    "    return ' '.join(words)\n",
    "\n",
    "# tidy up: apply functions defined above, normalize everything to lower case, remove rows that are empty, tokenize.\n",
    "tweets.text = tweets.text.apply(remove_links)\n",
    "tweets.text = tweets.text.apply(filter_alpha)\n",
    "tweets.text = tweets.text.str.lower()\n",
    "tweets = tweets[tweets.text != \"\"]\n",
    "tweets.text = tweets.text.str.split()\n",
    "\n",
    "# flatten out all the text\n",
    "list_of_texts = tweets.text.tolist()\n",
    "all_text = [word for text in list_of_texts for word in text]\n",
    "\n",
    "# distribution of words\n",
    "nltk.FreqDist(all_text)"
   ]
  },
  {
   "cell_type": "code",
   "execution_count": 4,
   "metadata": {},
   "outputs": [],
   "source": [
    "# remove stopwords and irrelevant terms\n",
    "\n",
    "# list of irrelevant words and stop words (from the english language)\n",
    "remove_list = ['rt']\n",
    "stop_words = nltk.corpus.stopwords.words('english')\n",
    "\n",
    "all_text = [word for word in all_text if word not in remove_list]\n",
    "all_text = [word for word in all_text if word not in stop_words]\n",
    "\n",
    "# get the distrubution again and fetch the N most common words\n",
    "N = 1500\n",
    "occurrences = nltk.FreqDist(all_text)\n",
    "dict_occurrences = occurrences.most_common(N)"
   ]
  },
  {
   "cell_type": "code",
   "execution_count": 5,
   "metadata": {
    "scrolled": true
   },
   "outputs": [
    {
     "data": {
      "image/png": "[encoded data removed]",
      "text/plain": [
       "<Figure size 1080x360 with 1 Axes>"
      ]
     },
     "metadata": {
      "needs_background": "light"
     },
     "output_type": "display_data"
    }
   ],
   "source": [
    "d = {'word':[x[0] for x in dict_occurrences], 'occurrences':[x[1] for x in dict_occurrences]}\n",
    "df_trump_bow = pd.DataFrame(data=d)\n",
    "\n",
    "fig, ax = plt.subplots(1, 1, figsize=(15,5))\n",
    "df_trump_bow.head(50).plot(kind='bar', x='word', y='occurrences', ax=ax)\n",
    "plt.show()"
   ]
  },
  {
   "cell_type": "code",
   "execution_count": 6,
   "metadata": {},
   "outputs": [
    {
     "data": {
      "text/html": [
       "<div>\n",
       "<style scoped>\n",
       "    .dataframe tbody tr th:only-of-type {\n",
       "        vertical-align: middle;\n",
       "    }\n",
       "\n",
       "    .dataframe tbody tr th {\n",
       "        vertical-align: top;\n",
       "    }\n",
       "\n",
       "    .dataframe thead th {\n",
       "        text-align: right;\n",
       "    }\n",
       "</style>\n",
       "<table border=\"1\" class=\"dataframe\">\n",
       "  <thead>\n",
       "    <tr style=\"text-align: right;\">\n",
       "      <th></th>\n",
       "      <th>word</th>\n",
       "      <th>occurrences</th>\n",
       "    </tr>\n",
       "  </thead>\n",
       "  <tbody>\n",
       "    <tr>\n",
       "      <th>201</th>\n",
       "      <td>tremendous</td>\n",
       "      <td>156</td>\n",
       "    </tr>\n",
       "  </tbody>\n",
       "</table>\n",
       "</div>"
      ],
      "text/plain": [
       "           word  occurrences\n",
       "201  tremendous          156"
      ]
     },
     "execution_count": 6,
     "metadata": {},
     "output_type": "execute_result"
    }
   ],
   "source": [
    "df_trump_bow[df_trump_bow.word == 'tremendous']"
   ]
  },
  {
   "cell_type": "code",
   "execution_count": null,
   "metadata": {},
   "outputs": [],
   "source": []
  }
 ],
 "metadata": {
  "kernelspec": {
   "display_name": "Python 3",
   "language": "python",
   "name": "python3"
  },
  "language_info": {
   "codemirror_mode": {
    "name": "ipython",
    "version": 3
   },
   "file_extension": ".py",
   "mimetype": "text/x-python",
   "name": "python",
   "nbconvert_exporter": "python",
   "pygments_lexer": "ipython3",
   "version": "3.7.4"
  }
 },
 "nbformat": 4,
 "nbformat_minor": 2
}
